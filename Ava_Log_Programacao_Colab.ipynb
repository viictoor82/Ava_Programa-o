{
  "cells": [
    {
      "cell_type": "markdown",
      "metadata": {
        "id": "view-in-github",
        "colab_type": "text"
      },
      "source": [
        "<a href=\"https://colab.research.google.com/github/viictoor82/Ava_Programa-o/blob/main/Ava_Log_Programacao_Colab.ipynb\" target=\"_parent\"><img src=\"https://colab.research.google.com/assets/colab-badge.svg\" alt=\"Open In Colab\"/></a>"
      ]
    },
    {
      "cell_type": "code",
      "source": [
        "\n",
        "#Questão 1\n",
        "a = int(input(\"escreva um numero: \"))\n",
        "b = int(input(\"escreva um numero: \"))\n",
        "c = int(input(\"escreva um numero: \"))\n",
        "if a<c :\n",
        "  a,c=c,a\n",
        "if a<b :\n",
        "    a,b=b,a\n",
        "if b<c :\n",
        "  b,c=c,b\n",
        "print (f'A Ordem Decrescente è: {a} {b} {c}')"
      ],
      "metadata": {
        "id": "LJgnF9-jk_MA"
      },
      "execution_count": null,
      "outputs": []
    },
    {
      "cell_type": "code",
      "source": [
        "#Questão 2\n",
        "n = int(input(\"digite um número: \"))\n",
        "v = 0\n",
        "while v<=n :\n",
        "  print(v)\n",
        "  v =v+1"
      ],
      "metadata": {
        "id": "NMEomlwdk_-O"
      },
      "execution_count": null,
      "outputs": []
    },
    {
      "cell_type": "code",
      "source": [
        "#Questão 3\n",
        "nome = input(\"Qual o Seu Nome: \")\n",
        "if len(nome)<=120:\n",
        "  print(\"Seja Bem-Vindo {}\".format(nome))"
      ],
      "metadata": {
        "id": "SXkcG_lXd9yX"
      },
      "execution_count": null,
      "outputs": []
    },
    {
      "cell_type": "code",
      "source": [
        "#Questão 4\n",
        "n = int(input(\"Número: \"))\n",
        "cont = 0\n",
        "i = 0\n",
        "while i<=n or cont<2:\n",
        "  i = i+1\n",
        "  x = n%i\n",
        "  if x == 0 :\n",
        "    cont = cont + 1\n",
        "if cont == 2 :\n",
        "    print(\"Número é Primo\")\n",
        "else :\n",
        "    print(\"Número Não é Primo\")"
      ],
      "metadata": {
        "id": "TZi6qPFVzzBE"
      },
      "execution_count": null,
      "outputs": []
    },
    {
      "cell_type": "code",
      "source": [
        "#Questão 5\n",
        "n = int(input(\"Quantidade de Alunos: \"))\n",
        "notas = []\n",
        "for _ in range(n):\n",
        "    nota = float(input())\n",
        "    notas.append(nota)\n",
        "media = sum(notas) / n\n",
        "limite_superior = media * 1.10\n",
        "limite_inferior = media * 0.90\n",
        "acima_10 = sum(1 for nota in notas if nota > limite_superior)\n",
        "abaixo_10 = sum(1 for nota in notas if nota < limite_inferior)\n",
        "print(f\"{media:.2f}\")\n",
        "print(\"Alunos Acima da Média: {}\".format(acima_10))\n",
        "print(\"Alunos Abaixo da Média: {}\".format(abaixo_10))"
      ],
      "metadata": {
        "id": "WcOWrKHdfGIw"
      },
      "execution_count": null,
      "outputs": []
    },
    {
      "cell_type": "code",
      "source": [
        "#Questão 6\n",
        "frase = input(\"Digite a Palavra: \")\n",
        "string = frase[::-1]\n",
        "print(\"A Palavra Invertida fica:\",format(string))"
      ],
      "metadata": {
        "id": "7_vMrfkH0wzs"
      },
      "execution_count": null,
      "outputs": []
    },
    {
      "cell_type": "code",
      "source": [
        "#Questão 7\n",
        "string = input(\"Digite a Palavra: \").lower()\n",
        "c1 = input(\"Qual Letra você Irá Substituir: \").lower()\n",
        "c2 = input(\"Qual a Letra Substituta: \").lower()\n",
        "print(\"A Palavra fica: {}\".format(string.replace(c1,c2)))"
      ],
      "metadata": {
        "id": "M9S3TYTdpTXM"
      },
      "execution_count": null,
      "outputs": []
    },
    {
      "cell_type": "code",
      "source": [
        "#Questão 8\n",
        "string = input(\"Qual a Palavra: \").lower()\n",
        "c = input(\"Qual Letra Verificar: \").lower()\n",
        "print(\"O Índice da Primeira Ocorrência da Letra é: {}\".format(string.find(c)))"
      ],
      "metadata": {
        "id": "2u_iDzYTlB4n"
      },
      "execution_count": null,
      "outputs": []
    },
    {
      "cell_type": "code",
      "source": [
        "#Questão 9\n",
        "x = int(input(\"Valor de X: \"))\n",
        "y = int(input(\"Valor de Y: \"))\n",
        "menor = min(x,y)\n",
        "maior = max(x,y)\n",
        "for i in range(menor,maior+1):\n",
        "  if i % 5 == 2 or i % 5 == 3:\n",
        "    print(i)"
      ],
      "metadata": {
        "id": "8l7qsjrWmHi5"
      },
      "execution_count": null,
      "outputs": []
    },
    {
      "cell_type": "code",
      "source": [
        "#Questão 10\n",
        "n = int(input(\"Digite a quantidade de números: \"))\n",
        "numeros = []\n",
        "for i in range(n):\n",
        "    numero = int(input(f\"Digite o {i+1}º número: \"))\n",
        "    numeros.append(numero)\n",
        "print(\"\\nNúmeros na ordem inversa:\")\n",
        "for numero in reversed(numeros):\n",
        "    print(numero)\n",
        "print(\"\\nNúmeros em ordem decrescente:\")\n",
        "for numero in sorted(numeros, reverse=True):\n",
        "    print(numero)"
      ],
      "metadata": {
        "id": "g1lNvILmnet3"
      },
      "execution_count": null,
      "outputs": []
    }
  ],
  "metadata": {
    "colab": {
      "provenance": [],
      "include_colab_link": true
    },
    "kernelspec": {
      "display_name": "Python 3",
      "name": "python3"
    }
  },
  "nbformat": 4,
  "nbformat_minor": 0
}